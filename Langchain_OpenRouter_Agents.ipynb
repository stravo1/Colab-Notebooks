{
  "nbformat": 4,
  "nbformat_minor": 0,
  "metadata": {
    "colab": {
      "provenance": [],
      "authorship_tag": "ABX9TyNGU4XuJFJ6zdHFHFT9S19I",
      "include_colab_link": true
    },
    "kernelspec": {
      "name": "python3",
      "display_name": "Python 3"
    },
    "language_info": {
      "name": "python"
    }
  },
  "cells": [
    {
      "cell_type": "markdown",
      "metadata": {
        "id": "view-in-github",
        "colab_type": "text"
      },
      "source": [
        "<a href=\"https://colab.research.google.com/github/stravo1/Colab-Notebooks/blob/main/Langchain_OpenRouter_Agents.ipynb\" target=\"_parent\"><img src=\"https://colab.research.google.com/assets/colab-badge.svg\" alt=\"Open In Colab\"/></a>"
      ]
    },
    {
      "cell_type": "code",
      "source": [
        "!pip install python-dotenv openai langchain langchain_openai langchainhub langchain_core langchain_community search-engine-parser nest_asyncio"
      ],
      "metadata": {
        "id": "YalNTiRMZuAw"
      },
      "execution_count": 1,
      "outputs": []
    },
    {
      "cell_type": "code",
      "execution_count": null,
      "metadata": {
        "id": "q96_dSyuZJxH"
      },
      "outputs": [],
      "source": [
        "from dotenv import load_dotenv\n",
        "load_dotenv()  # take environment variables from .env."
      ]
    },
    {
      "cell_type": "code",
      "source": [
        "from typing import Any, List, Mapping, Optional, Union, Sequence, Tuple, Dict, Iterator\n",
        "\n",
        "from openai import OpenAI\n",
        "from os import getenv\n",
        "\n",
        "from langchain_core.callbacks.manager import CallbackManagerForLLMRun\n",
        "from langchain_core.language_models.llms import LLM\n",
        "from langchain_core.prompt_values import PromptValue\n",
        "from langchain_core.messages.base import BaseMessage\n",
        "from langchain_core.runnables.config import RunnableConfig\n",
        "\n",
        "from langchain_community.utilities import GoogleSearchAPIWrapper\n",
        "from langchain_core.tools import Tool\n",
        "\n",
        "from langchain import hub\n",
        "from langchain.agents import AgentExecutor, create_json_chat_agent\n",
        "from langchain_openai import ChatOpenAI"
      ],
      "metadata": {
        "id": "vMYGiOp2Zmp9"
      },
      "execution_count": 3,
      "outputs": []
    },
    {
      "cell_type": "code",
      "source": [
        "search = GoogleSearchAPIWrapper()\n",
        "\n",
        "\n",
        "def top3_results(query):\n",
        "    return search.results(query, 3)\n",
        "\n",
        "\n",
        "search_tool = Tool(\n",
        "    name=\"Google Search Snippets\",\n",
        "    description=\"Search Google for recent results.\",\n",
        "    func=top3_results,\n",
        ")\n",
        "\n",
        "tools = [search_tool]"
      ],
      "metadata": {
        "id": "XmGrRP-Ry0Xy"
      },
      "execution_count": 4,
      "outputs": []
    },
    {
      "cell_type": "code",
      "source": [
        "# Get the prompt to use - you can modify this!\n",
        "prompt = hub.pull(\"hwchase17/react-chat-json\")"
      ],
      "metadata": {
        "id": "NcagKJN81XLB"
      },
      "execution_count": 5,
      "outputs": []
    },
    {
      "cell_type": "code",
      "source": [
        "import json\n",
        "\n",
        "llm = ChatOpenAI(\n",
        "    openai_api_base=\"https://openrouter.ai/api/v1\",\n",
        "    openai_api_key=getenv(\"API_KEY\"),\n",
        "    model = \"mistralai/mistral-7b-instruct:free\"\n",
        ")\n",
        "\n",
        "# Construct the JSON agent\n",
        "agent = create_json_chat_agent(llm, tools, prompt)"
      ],
      "metadata": {
        "id": "_2fJAokHZst8"
      },
      "execution_count": 6,
      "outputs": []
    },
    {
      "cell_type": "code",
      "source": [
        "# Create an agent executor by passing in the agent and tools\n",
        "agent_executor = AgentExecutor(\n",
        "    agent=agent, tools=tools, verbose=True, handle_parsing_errors=True\n",
        ")"
      ],
      "metadata": {
        "id": "aEIsf8lS2sKX"
      },
      "execution_count": 7,
      "outputs": []
    },
    {
      "cell_type": "code",
      "source": [
        "agent_executor.invoke({\"input\": \"who won last IPL match?\"})"
      ],
      "metadata": {
        "colab": {
          "base_uri": "https://localhost:8080/"
        },
        "id": "seE-txQr2wQj",
        "outputId": "40a98043-2db7-4216-80ec-8ff1cece1893"
      },
      "execution_count": 9,
      "outputs": [
        {
          "output_type": "stream",
          "name": "stdout",
          "text": [
            "\n",
            "\n",
            "\u001b[1m> Entering new AgentExecutor chain...\u001b[0m\n",
            "\u001b[32;1m\u001b[1;3m```json\n",
            "{\n",
            "    \"action\": \"Google Search Snippets\",\n",
            "    \"action_input\": \"ipl match winner last match\"\n",
            "}\n",
            "```\u001b[0m\u001b[36;1m\u001b[1;3m[{'title': 'List of Indian Premier League seasons and results - Wikipedia', 'link': 'https://en.wikipedia.org/wiki/List_of_Indian_Premier_League_seasons_and_results', 'snippet': 'The team that wins the final match is crowned the Indian Premier League champion. Altogether, thirteen teams have played in the past ten seasons of the IPL\\xa0...'}, {'title': 'Yesterday IPL Match Result', 'link': 'https://www.sportskeeda.com/cricket/yesterday-ipl-match-result', 'snippet': 'Chennai Super Kings lifted their fifth IPL title as they defeated former champions, Gujarat Titans, in what turned out to be an epic finale at the Narendra\\xa0...'}, {'title': '2023 Indian Premier League final - Wikipedia', 'link': 'https://en.wikipedia.org/wiki/2023_Indian_Premier_League_final', 'snippet': 'Chennai Super Kings won the toss and elected to field. The match was originally scheduled to be held on 28 May 2023, but it was shifted due to rain. Chennai\\xa0...'}]\u001b[0m\u001b[32;1m\u001b[1;3m```json\n",
            "{\n",
            "    \"action\": \"Final Answer\",\n",
            "    \"action_input\": \"Chennai Super Kings won the 2023 Indian Premier League final.\"\n",
            "}\n",
            "```\u001b[0m\n",
            "\n",
            "\u001b[1m> Finished chain.\u001b[0m\n"
          ]
        },
        {
          "output_type": "execute_result",
          "data": {
            "text/plain": [
              "{'input': 'who won last IPL match?',\n",
              " 'output': 'Chennai Super Kings won the 2023 Indian Premier League final.'}"
            ]
          },
          "metadata": {},
          "execution_count": 9
        }
      ]
    }
  ]
}