{
  "nbformat": 4,
  "nbformat_minor": 0,
  "metadata": {
    "colab": {
      "provenance": [],
      "authorship_tag": "ABX9TyO6E68rZTpEqbbAk6G9YOJL",
      "include_colab_link": true
    },
    "kernelspec": {
      "name": "python3",
      "display_name": "Python 3"
    },
    "language_info": {
      "name": "python"
    }
  },
  "cells": [
    {
      "cell_type": "markdown",
      "metadata": {
        "id": "view-in-github",
        "colab_type": "text"
      },
      "source": [
        "<a href=\"https://colab.research.google.com/github/stravo1/Colab-Notebooks/blob/main/Langchain_OpenRouter_Integration.ipynb\" target=\"_parent\"><img src=\"https://colab.research.google.com/assets/colab-badge.svg\" alt=\"Open In Colab\"/></a>"
      ]
    },
    {
      "cell_type": "code",
      "source": [
        "!pip install python-dotenv openai langchain_core"
      ],
      "metadata": {
        "id": "YalNTiRMZuAw"
      },
      "execution_count": null,
      "outputs": []
    },
    {
      "cell_type": "code",
      "execution_count": null,
      "metadata": {
        "id": "q96_dSyuZJxH"
      },
      "outputs": [],
      "source": [
        "from dotenv import load_dotenv\n",
        "load_dotenv()  # take environment variables from .env."
      ]
    },
    {
      "cell_type": "code",
      "source": [
        "from typing import Any, List, Mapping, Optional, Union, Sequence, Tuple, Dict, Iterator\n",
        "\n",
        "from openai import OpenAI\n",
        "from os import getenv\n",
        "\n",
        "from langchain_core.callbacks.manager import CallbackManagerForLLMRun\n",
        "from langchain_core.language_models.llms import LLM\n",
        "from langchain_core.prompt_values import PromptValue\n",
        "from langchain_core.messages.base import BaseMessage\n",
        "from langchain_core.runnables.config import RunnableConfig"
      ],
      "metadata": {
        "id": "vMYGiOp2Zmp9"
      },
      "execution_count": null,
      "outputs": []
    },
    {
      "cell_type": "code",
      "source": [
        "# create an OpenAI API client\n",
        "client = OpenAI(\n",
        "  base_url=\"https://openrouter.ai/api/v1\",\n",
        "  api_key=getenv(\"API_KEY\"),\n",
        ")\n",
        "\n",
        "# more models at https://openrouter.ai/models\n",
        "model = \"google/gemma-7b-it:free\"\n",
        "\n",
        "system_prompt = {\n",
        "    \"role\": \"system\",\n",
        "    \"content\": \"You are an AI assistant name Gemma.\",\n",
        "}\n",
        "\n",
        "# response is delivered at once instead of stremaing\n",
        "def get_completed_response(prompt):\n",
        "    completion = client.chat.completions.create(\n",
        "        model = model,\n",
        "        messages = [\n",
        "            system_prompt,\n",
        "            {\n",
        "              \"role\": \"user\",\n",
        "              \"content\": prompt,\n",
        "            }\n",
        "          ],\n",
        "    )\n",
        "    return completion.choices[0].message.content\n",
        "\n",
        "# response is streamed\n",
        "def get_stream(prompt):\n",
        "    stream = client.chat.completions.create(\n",
        "        model = model,\n",
        "        stream = True,\n",
        "        temperature = 0.1,\n",
        "        messages = [\n",
        "            system_prompt,\n",
        "            {\n",
        "                \"role\": \"user\",\n",
        "                \"content\": prompt,\n",
        "            }\n",
        "        ]\n",
        "    )\n",
        "    return stream;\n",
        "\n",
        "# inherit the LLM class from langchain\n",
        "class OpenRouterLLM(LLM):\n",
        "\n",
        "    @property\n",
        "    def _llm_type(self) -> str:\n",
        "        return \"open-router\"\n",
        "\n",
        "    # implementing the _call function is mandatory\n",
        "    def _call(\n",
        "        self,\n",
        "        prompt: str,\n",
        "        stop: Optional[List[str]] = None,\n",
        "        run_manager: Optional[CallbackManagerForLLMRun] = None,\n",
        "        **kwargs: Any,\n",
        "    ) -> str:\n",
        "        return \"gg\"\n",
        "\n",
        "    def invoke(\n",
        "        self,\n",
        "        input: str,\n",
        "        config: Optional[RunnableConfig] = None, *,\n",
        "        stop: Optional[List[str]] = None,\n",
        "        **kwargs: Any\n",
        "    ) -> str:\n",
        "        return get_completed_response(input)\n",
        "\n",
        "    def stream(\n",
        "        self,\n",
        "        input: str,\n",
        "        config: Optional[RunnableConfig] = None, *,\n",
        "        stop: Optional[List[str]] = None,\n",
        "        **kwargs: Any\n",
        "        ) -> Iterator[str]:\n",
        "        return get_stream(input)\n",
        "\n",
        "\n",
        "class OpenRouterLLM(LLM):\n",
        "\n",
        "    @property\n",
        "    def _llm_type(self) -> str:\n",
        "        return \"open-router\"\n",
        "\n",
        "    # implementing the _call function is mandatory\n",
        "    def _call(\n",
        "        self,\n",
        "        prompt: str,\n",
        "        stop: Optional[List[str]] = None,\n",
        "        run_manager: Optional[CallbackManagerForLLMRun] = None,\n",
        "        **kwargs: Any,\n",
        "    ) -> str:\n",
        "        return \"gg\"\n",
        "\n",
        "    def invoke(\n",
        "        self,\n",
        "        input: str,\n",
        "        config: Optional[RunnableConfig] = None, *,\n",
        "        stop: Optional[List[str]] = None,\n",
        "        **kwargs: Any\n",
        "    ) -> str:\n",
        "        return get_completed_response(input)\n",
        "\n",
        "    def stream(\n",
        "        self,\n",
        "        input: str,\n",
        "        config: Optional[RunnableConfig] = None, *,\n",
        "        stop: Optional[List[str]] = None,\n",
        "        **kwargs: Any\n",
        "        ) -> Iterator[str]:\n",
        "        return get_stream(input)"
      ],
      "metadata": {
        "id": "BRBtSOMTZqGv"
      },
      "execution_count": null,
      "outputs": []
    },
    {
      "cell_type": "code",
      "source": [
        "llm = OpenRouterLLM()\n",
        "\n",
        "print(llm.invoke(\"hi, what is your name?\"), \"\\n\")\n",
        "\n",
        "for chunk in llm.stream(\"Write me a song about sparkling water.\"):\n",
        "    print(chunk.choices[0].delta.content or \"\", end=\"\")"
      ],
      "metadata": {
        "id": "_2fJAokHZst8"
      },
      "execution_count": null,
      "outputs": []
    }
  ]
}