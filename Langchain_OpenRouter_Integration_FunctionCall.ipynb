{
  "nbformat": 4,
  "nbformat_minor": 0,
  "metadata": {
    "colab": {
      "provenance": [],
      "authorship_tag": "ABX9TyNOklWVkh9WxVMjnSUagBgw",
      "include_colab_link": true
    },
    "kernelspec": {
      "name": "python3",
      "display_name": "Python 3"
    },
    "language_info": {
      "name": "python"
    }
  },
  "cells": [
    {
      "cell_type": "markdown",
      "metadata": {
        "id": "view-in-github",
        "colab_type": "text"
      },
      "source": [
        "<a href=\"https://colab.research.google.com/github/stravo1/Colab-Notebooks/blob/main/Langchain_OpenRouter_Integration_FunctionCall.ipynb\" target=\"_parent\"><img src=\"https://colab.research.google.com/assets/colab-badge.svg\" alt=\"Open In Colab\"/></a>"
      ]
    },
    {
      "cell_type": "code",
      "source": [
        "!pip install python-dotenv openai langchain_core"
      ],
      "metadata": {
        "id": "YalNTiRMZuAw"
      },
      "execution_count": 1,
      "outputs": []
    },
    {
      "cell_type": "code",
      "execution_count": 2,
      "metadata": {
        "id": "q96_dSyuZJxH",
        "colab": {
          "base_uri": "https://localhost:8080/"
        },
        "outputId": "9deee9f3-fed5-44a1-bc53-7166d29483c3"
      },
      "outputs": [
        {
          "output_type": "execute_result",
          "data": {
            "text/plain": [
              "True"
            ]
          },
          "metadata": {},
          "execution_count": 2
        }
      ],
      "source": [
        "from dotenv import load_dotenv\n",
        "load_dotenv()  # take environment variables from .env."
      ]
    },
    {
      "cell_type": "code",
      "source": [
        "from typing import Any, List, Mapping, Optional, Union, Sequence, Tuple, Dict, Iterator\n",
        "\n",
        "from openai import OpenAI\n",
        "from os import getenv\n",
        "\n",
        "from langchain_core.callbacks.manager import CallbackManagerForLLMRun\n",
        "from langchain_core.language_models.llms import LLM\n",
        "from langchain_core.prompt_values import PromptValue\n",
        "from langchain_core.messages.base import BaseMessage\n",
        "from langchain_core.runnables.config import RunnableConfig"
      ],
      "metadata": {
        "id": "vMYGiOp2Zmp9"
      },
      "execution_count": 3,
      "outputs": []
    },
    {
      "cell_type": "code",
      "source": [
        "custom_functions = [\n",
        "    {\n",
        "        'name': 'extract_student_info',\n",
        "        'description': 'Get the student information from the body of the input text',\n",
        "        'parameters': {\n",
        "            'type': 'object',\n",
        "            'properties': {\n",
        "                'name': {\n",
        "                    'type': 'string',\n",
        "                    'description': 'Name of the person'\n",
        "                },\n",
        "                'major': {\n",
        "                    'type': 'string',\n",
        "                    'description': 'Major subject.'\n",
        "                },\n",
        "                'school': {\n",
        "                    'type': 'string',\n",
        "                    'description': 'The university name.'\n",
        "                },\n",
        "                'grades': {\n",
        "                    'type': 'integer',\n",
        "                    'description': 'GPA of the student.'\n",
        "                },\n",
        "                'club': {\n",
        "                    'type': 'string',\n",
        "                    'description': 'School club for ONLY extracurricular activities. NOT AN ARRAY, CHOOSE ONE.'\n",
        "                }\n",
        "\n",
        "            }\n",
        "        }\n",
        "    },\n",
        "    {\n",
        "        'name': 'extract_school_info',\n",
        "        'description': 'Get the school information from the body of the input text',\n",
        "        'parameters': {\n",
        "            'type': 'object',\n",
        "            'properties': {\n",
        "                'name': {\n",
        "                    'type': 'string',\n",
        "                    'description': 'Name of the school.'\n",
        "                },\n",
        "                'ranking': {\n",
        "                    'type': 'integer',\n",
        "                    'description': 'QS world ranking of the school.'\n",
        "                },\n",
        "                'country': {\n",
        "                    'type': 'string',\n",
        "                    'description': 'Country of the school.'\n",
        "                },\n",
        "                'total': {\n",
        "                    'type': 'integer',\n",
        "                    'description': 'Total number of students in the school',\n",
        "                },\n",
        "                'u_grads': {\n",
        "                    'type': 'integer',\n",
        "                    'description': 'Total number of undergraduate students in the school',\n",
        "                },\n",
        "                'grads': {\n",
        "                    'type': 'integer',\n",
        "                    'description': 'Total number of graduate students in the school',\n",
        "                },\n",
        "                'summary': {\n",
        "                    'type': 'string',\n",
        "                    'description': 'The summary for the school in a few words',\n",
        "                },\n",
        "                'keywords': {\n",
        "                    'type': 'array',\n",
        "                    'items': {\n",
        "                        'type': 'string'\n",
        "                    },\n",
        "                    'description': 'The one-word keywords associated with the school, provide at least 5 of them.',\n",
        "                }\n",
        "            }\n",
        "        }\n",
        "    }\n",
        "]\n",
        "\n",
        "tools = [\n",
        "    {\n",
        "        \"type\": \"function\",\n",
        "        \"function\": custom_functions[0]\n",
        "    },\n",
        "    {\n",
        "        \"type\": \"function\",\n",
        "        \"function\": custom_functions[1]\n",
        "    }\n",
        "]\n",
        "\n",
        "school_1_description = \"Stanford University is a private research university located in Stanford, California, United States. It was founded in 1885 by Leland Stanford and his wife, Jane Stanford, in memory of their only child, Leland Stanford Jr. The university is ranked #5 in the world by QS World University Rankings. It has over 17,000 students, including about 7,600 undergraduates and 9,500 graduates. \"\n",
        "student_1_description = \"David Nguyen is a sophomore majoring in computer science at Stanford University. He is Asian American and has a 3.8 GPA. David is known for his programming skills and is an active member of the university's Robotics Club. He hopes to pursue a career in artificial intelligence after graduating.\"\n",
        "student_2_description=\"Ravi Patel is a sophomore majoring in computer science at the University of Michigan. He is South Asian Indian American and has a 3.7 GPA. Ravi is an active member of the university's Chess Club and the South Asian Student Association. He hopes to pursue a career in software engineering after graduating.\""
      ],
      "metadata": {
        "id": "0xOX3dqKk8v2"
      },
      "execution_count": 4,
      "outputs": []
    },
    {
      "cell_type": "code",
      "source": [
        "# create an OpenAI API client\n",
        "client = OpenAI(\n",
        "  base_url=\"https://openrouter.ai/api/v1\",\n",
        "  api_key=getenv(\"API_KEY\"),\n",
        ")\n",
        "\n",
        "# more models at https://openrouter.ai/models\n",
        "model = \"mistralai/mistral-7b-instruct:nitro\"\n",
        "\n",
        "system_prompt = {\n",
        "      \"role\": \"system\",\n",
        "      \"content\": r\"You are an AI assistant who has access to various functions and depending on the request you need to call the function with the functoin name and proper arguments in the JSON format {'function_name':'...', 'arguments': {...}} strictly following the types. No extra content needed.\",\n",
        "}\n",
        "\n",
        "model_config = {\n",
        "    \"model\" : model,\n",
        "    \"tools\" : tools,\n",
        "    \"temperature\" : 0,\n",
        "    \"tool_choice\" : \"auto\",\n",
        "    \"response_format\" : {\"type\": \"json_object\"},\n",
        "    \"max_tokens\": 1000,\n",
        "}\n",
        "\n",
        "# response is delivered at once instead of stremaing\n",
        "def get_completed_response(prompt):\n",
        "    completion = client.chat.completions.create(\n",
        "        **model_config,\n",
        "        messages = [\n",
        "            system_prompt,\n",
        "            {\n",
        "              \"role\": \"user\",\n",
        "              \"content\": prompt,\n",
        "            }\n",
        "          ],\n",
        "    )\n",
        "    return completion.choices[0].message.content\n",
        "\n",
        "# response is streamed\n",
        "def get_stream(prompt):\n",
        "    stream = client.chat.completions.create(\n",
        "        **model_config,\n",
        "        stream = True,\n",
        "        messages = [\n",
        "            system_prompt,\n",
        "            {\n",
        "                \"role\": \"user\",\n",
        "                \"content\": prompt,\n",
        "            }\n",
        "        ]\n",
        "    )\n",
        "    return stream;\n",
        "\n",
        "# inherit the LLM class from langchain\n",
        "class OpenRouter_FunctionCalling(LLM):\n",
        "\n",
        "    @property\n",
        "    def _llm_type(self) -> str:\n",
        "        return \"open-router\"\n",
        "\n",
        "    # implementing the _call function is mandatory\n",
        "    def _call(\n",
        "        self,\n",
        "        prompt: str,\n",
        "        stop: Optional[List[str]] = None,\n",
        "        run_manager: Optional[CallbackManagerForLLMRun] = None,\n",
        "        **kwargs: Any,\n",
        "    ) -> str:\n",
        "        return \"gg\"\n",
        "\n",
        "    def invoke(\n",
        "        self,\n",
        "        input: str,\n",
        "        config: Optional[RunnableConfig] = None, *,\n",
        "        stop: Optional[List[str]] = None,\n",
        "        **kwargs: Any\n",
        "    ) -> str:\n",
        "        return get_completed_response(input)\n",
        "\n",
        "    def stream(\n",
        "        self,\n",
        "        input: str,\n",
        "        config: Optional[RunnableConfig] = None, *,\n",
        "        stop: Optional[List[str]] = None,\n",
        "        **kwargs: Any\n",
        "        ) -> Iterator[str]:\n",
        "        return get_stream(input)\n"
      ],
      "metadata": {
        "id": "BRBtSOMTZqGv"
      },
      "execution_count": 5,
      "outputs": []
    },
    {
      "cell_type": "code",
      "source": [
        "import json\n",
        "\n",
        "llm = OpenRouter_FunctionCalling()\n",
        "\n",
        "print(json.loads(llm.invoke(school_1_description)))\n",
        "print(json.loads(llm.invoke(student_2_description)))"
      ],
      "metadata": {
        "id": "_2fJAokHZst8",
        "colab": {
          "base_uri": "https://localhost:8080/"
        },
        "outputId": "a39a87d8-7665-450c-c4a7-62a18b9caaff"
      },
      "execution_count": 13,
      "outputs": [
        {
          "output_type": "stream",
          "name": "stdout",
          "text": [
            "{'function_name': 'extract_school_info', 'arguments': {'name': 'Stanford University', 'ranking': '5', 'country': 'United States', 'total': '17000', 'u_grads': '7600', 'grads': '9500', 'summary': 'Private research university', 'keywords': ['Stanford', 'California', 'Leland Stanford', 'Jane Stanford', 'Research', 'University']}}\n",
            "{'function_name': 'extract_student_info', 'arguments': {'name': 'Ravi Patel', 'major': 'computer science', 'school': 'University of Michigan', 'grades': '3.7', 'club': 'Chess Club'}}\n"
          ]
        }
      ]
    }
  ]
}